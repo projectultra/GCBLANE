{
 "cells": [
  {
   "cell_type": "code",
   "execution_count": null,
   "metadata": {},
   "outputs": [],
   "source": [
    "import pandas as pd\n",
    "gcblane = pd.read_csv(\"690 Results.csv\")\n",
    "cblane = pd.read_csv(\"cblane.csv\")"
   ]
  },
  {
   "cell_type": "code",
   "execution_count": null,
   "metadata": {},
   "outputs": [],
   "source": [
    "gcblane.mean(numeric_only=True)"
   ]
  },
  {
   "cell_type": "code",
   "execution_count": null,
   "metadata": {},
   "outputs": [],
   "source": [
    "TRAIN_INDEX = \"Train Index\"\n",
    "df = gcblane.sort_values(by=TRAIN_INDEX)\n",
    "\n",
    "part_small = df[df[TRAIN_INDEX] < 3000]\n",
    "part_medium = df[(df[TRAIN_INDEX] >= 3000) & (df[TRAIN_INDEX] < 30000)]\n",
    "part_large = df[df[TRAIN_INDEX] > 30000]"
   ]
  },
  {
   "cell_type": "code",
   "execution_count": null,
   "metadata": {},
   "outputs": [],
   "source": [
    "part_small.mean(numeric_only=True)"
   ]
  },
  {
   "cell_type": "code",
   "execution_count": null,
   "metadata": {},
   "outputs": [],
   "source": [
    "part_medium.mean(numeric_only=True)"
   ]
  },
  {
   "cell_type": "code",
   "execution_count": null,
   "metadata": {},
   "outputs": [],
   "source": [
    "part_large.mean(numeric_only=True)"
   ]
  },
  {
   "cell_type": "code",
   "execution_count": null,
   "metadata": {},
   "outputs": [],
   "source": [
    "gcblane.merge(cblane, left_on='Name', right_on='165 Datasets (CBLANE)').mean(numeric_only=True)"
   ]
  }
 ],
 "metadata": {
  "language_info": {
   "name": "python"
  }
 },
 "nbformat": 4,
 "nbformat_minor": 2
}
